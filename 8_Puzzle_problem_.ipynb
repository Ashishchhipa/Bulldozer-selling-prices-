{
  "nbformat": 4,
  "nbformat_minor": 0,
  "metadata": {
    "colab": {
      "provenance": [],
      "authorship_tag": "ABX9TyO+389Zh1iBpe/FLIGSki11",
      "include_colab_link": true
    },
    "kernelspec": {
      "name": "python3",
      "display_name": "Python 3"
    },
    "language_info": {
      "name": "python"
    }
  },
  "cells": [
    {
      "cell_type": "markdown",
      "metadata": {
        "id": "view-in-github",
        "colab_type": "text"
      },
      "source": [
        "<a href=\"https://colab.research.google.com/github/Ashishchhipa/Bulldozer-selling-prices-/blob/main/8_Puzzle_problem_.ipynb\" target=\"_parent\"><img src=\"https://colab.research.google.com/assets/colab-badge.svg\" alt=\"Open In Colab\"/></a>"
      ]
    },
    {
      "cell_type": "code",
      "source": [
        "# def swap(Nodepair , a, b):\n",
        "#     temp = a;\n",
        "#     a = b;\n",
        "#     b = temp;\n",
        "#     return a,b;\n",
        "\n",
        "\n",
        "# def MoveGen(Nodepair, i):\n",
        "#   NewNode = [];\n",
        "#   r = i+1;\n",
        "#   l = i-1;\n",
        "#   t = i-3;\n",
        "#   b = i+3;\n",
        "#   if(i not in  (2,5,8) and r < len(Nodepair)):\n",
        "#     NewPair = swap(Nodepair, r, i);\n",
        "#     NewNode.append(NewPair);\n",
        "#   if(i not in (0,3,6) and l >= 0):\n",
        "#     NewPair = swap(Nodepair,l ,i);\n",
        "#     NewNode.append(NewPair);\n",
        "#   if(i not in (0,1,2) and t >= 0):\n",
        "#     NewPair = swap(Nodepair,i,t);\n",
        "#     NewNode.append(NewPair);\n",
        "\n",
        "#   if(i not in (6,7,8) and b < len(Nodepair)):\n",
        "#     NewPair = swap(Nodepair, b,i);\n",
        "#     NewNode.push_back(NewPair);\n",
        "\n",
        "#   return NewNode;\n",
        "\n",
        "\n",
        "# def RemoveSeen(Closed,childern,Open):\n",
        "\n",
        "\n",
        "# def swap(a,b):\n",
        "#     temp = a;\n",
        "#     a = b;\n",
        "#     b = temp;\n",
        "#     return a,b;\n",
        "\n",
        "\n",
        "# def Makepairs(NewNode,NodePair):\n",
        "#     parent = [];\n",
        "#     if(NewNode.size()== 0):  return ;\n",
        "#     else:\n",
        "#       parent = parent.push_back(NewNode[0],NodePair);\n",
        "#       return (NewNode[0],NodePair);\n",
        "#       NewNode = NewNode.pop_front();\n",
        "#       Makepairs(NewNode,NodePair);\n",
        "#     return parente;\n",
        "\n",
        "\n",
        "# def ReconstructPath(Closed ,parente):\n",
        "#     path = [];\n",
        "\n",
        "\n",
        "\n",
        "\n",
        "# def SimpleSearchDFS(OpenNode , GoleNode):\n",
        "#     Open = OpenNode;\n",
        "#     Closed = [];\n",
        "#     while(Open.size()!=0):\n",
        "#         NodePair = open[0];\n",
        "#         NewNode = [];\n",
        "#         i = NodePair.index(9);\n",
        "#         Open.pop_front();\n",
        "#         parent = Makepairs(NewNode , NodePair);\n",
        "#         if(GoleNode == NodePair):\n",
        "#             return ReconstructPath(NodePair,parent,Closed);\n",
        "#         else:\n",
        "#            Closed = Closed.push_back(NodePair);\n",
        "#            childern = MoveGen(NodePair,i );\n",
        "#           # NewNode = RemoveSeen(Closed,childern,Open);\n",
        "#            NewPairs = Makepairs(NewNode,NodePair);\n",
        "#            Open = Open.push_front(NewPairs);\n",
        "#         return open.size()==0;\n",
        "\n",
        "\n",
        "# def SimpleSearchBFS(OpenNode , GoalNode):\n",
        "#     Open = OpenNode;\n",
        "#     Closed = [];\n",
        "#     while(Open.size()!=0):\n",
        "#         NodePair = Open[0];\n",
        "\n",
        "#         Open.pop_front();\n",
        "#         if(GoleNode == NodePair):\n",
        "#             return ReconstructPath(NodePair,Closed);\n",
        "\n",
        "#         else:\n",
        "#            Closed = Closed.push_back(NodePair);\n",
        "#            i = NodePair.index(9);\n",
        "#            childern = MoveGen(NodePair,i);\n",
        "#            NewNode = RemoveSeen(Closed,childern,Open);\n",
        "#            NewPairs = Makepairs(NewNode,NodePair);\n",
        "#            Open = Open.push_back(NewPairs);\n",
        "#         return open.size()==0;\n",
        "\n",
        "# OpenNode = [2,3,4,7,6,1,9,8,5];\n",
        "# GoalNode = [1,2,3,4,5,6,7,8,9];\n",
        "# Open = SimpleSearchDFS();\n",
        "# print(Open);\n"
      ],
      "metadata": {
        "id": "5J6BFQRn7Svj"
      },
      "execution_count": 16,
      "outputs": []
    },
    {
      "cell_type": "code",
      "source": [
        "from copy import deepcopy"
      ],
      "metadata": {
        "id": "IoR0hVW6Geo0"
      },
      "execution_count": 17,
      "outputs": []
    },
    {
      "cell_type": "code",
      "source": [
        "def Makepairs(NewNode,NodePair):\n",
        "  parent = []\n",
        "  for i in range(len(NewNode)):\n",
        "    temp=[]\n",
        "    temp.append(NewNode[i])\n",
        "    temp.append(NodePair)\n",
        "    parent.append(temp);\n",
        "  return parent"
      ],
      "metadata": {
        "id": "L997ddcNEn-J"
      },
      "execution_count": 18,
      "outputs": []
    },
    {
      "cell_type": "code",
      "source": [
        "def RemoveSeen(Closed,children):\n",
        "  ans=[]\n",
        "  for i in range(len(children)):\n",
        "    flag=False\n",
        "    for j in range(len(Closed)):\n",
        "      if(children[i]==Closed[j][0]):\n",
        "        flag=True\n",
        "        break\n",
        "    if(flag==False):\n",
        "      ans.append(children[i])\n",
        "  return ans"
      ],
      "metadata": {
        "id": "gPz0o_UVG3zX"
      },
      "execution_count": 19,
      "outputs": []
    },
    {
      "cell_type": "code",
      "source": [
        "def Reverse(lst):\n",
        "   new_lst = lst[::-1]\n",
        "   return new_lst\n",
        "\n",
        "def ReconstructPath(NodePair,Closed):\n",
        "  parent=[]\n",
        "  parent.append(NodePair)\n",
        "  for i in Closed:\n",
        "        if i[0]==NodePair:\n",
        "          if(NodePair!=i[1]):\n",
        "            temp=ReconstructPath(i[1],Closed)\n",
        "            for i in temp:\n",
        "                parent.append(i)\n",
        "          else:\n",
        "            break\n",
        "  return parent"
      ],
      "metadata": {
        "id": "PBpqsKXpagKO"
      },
      "execution_count": 20,
      "outputs": []
    },
    {
      "cell_type": "code",
      "source": [
        "def swap(Nodepair,ni,nj,i,j):\n",
        "    temp = Nodepair[ni][nj];\n",
        "    Nodepair[ni][nj] = Nodepair[i][j];\n",
        "    Nodepair[i][j] = temp;\n",
        "    return Nodepair;"
      ],
      "metadata": {
        "id": "MlNU8HcdD3hg"
      },
      "execution_count": 21,
      "outputs": []
    },
    {
      "cell_type": "code",
      "source": [
        "def MoveGen(Nodepair, i,j):\n",
        "  NewNode = [];\n",
        "  nj = j+1;\n",
        "  n2j = j-1;\n",
        "  ni = i-1;\n",
        "  n2i = i+1;\n",
        "  if(nj<=2):\n",
        "    new_pair = deepcopy(Nodepair)\n",
        "    new_pair = swap(new_pair, i, nj, i, j)\n",
        "    NewNode.append(new_pair)\n",
        "  if(n2j>=0 ):\n",
        "    new_pair = deepcopy(Nodepair)\n",
        "    new_pair = swap(new_pair, i, n2j, i, j)\n",
        "    NewNode.append(new_pair)\n",
        "  if(ni>=0):\n",
        "    new_pair = deepcopy(Nodepair)\n",
        "    new_pair = swap(new_pair, ni, j, i, j)\n",
        "    NewNode.append(new_pair)\n",
        "  if(n2i<=2 ):\n",
        "    new_pair = deepcopy(Nodepair)\n",
        "    new_pair = swap(new_pair, n2i, j, i, j)\n",
        "    NewNode.append(new_pair)\n",
        "  return NewNode;"
      ],
      "metadata": {
        "id": "Wv8uRFvUCDGN"
      },
      "execution_count": 22,
      "outputs": []
    },
    {
      "cell_type": "code",
      "source": [
        "def func(NodePair):\n",
        "  for i in range(3):\n",
        "    for j in range(3):\n",
        "      if(NodePair[i][j]==9):\n",
        "        return i,j\n",
        "  return -1,-1"
      ],
      "metadata": {
        "id": "zShhjhmGgcmz"
      },
      "execution_count": 23,
      "outputs": []
    },
    {
      "cell_type": "code",
      "source": [
        "def db_dfs(OpenNode , GoalNode,depth):\n",
        "  Open = []\n",
        "  temp=[]\n",
        "  temp.append(OpenNode)\n",
        "  temp.append(OpenNode)\n",
        "  temp.append(depth)\n",
        "  Open.append(temp)\n",
        "  Closed = []\n",
        "  Closed.append(temp)\n",
        "  t=1\n",
        "  while (len(Open) > 0) :\n",
        "    NodePair = Open[0][0]\n",
        "    NodeParent = Open[0][1]\n",
        "    NodeDepth = Open[0][2]\n",
        "    Open.pop(0);\n",
        "    if(GoalNode == NodePair):\n",
        "      return ReconstructPath(NodeParent,Closed)\n",
        "    else:\n",
        "      if NodeDepth<depth :\n",
        "        i,j =func(NodePair)\n",
        "        children = MoveGen(NodePair,i,j)\n",
        "        NewNode = RemoveSeen(Closed,children)\n",
        "        NewPairs = Makepairs(NewNode,NodePair)\n",
        "        for it in NewPairs:\n",
        "          it.append(depth+1)\n",
        "          Closed.append(it)\n",
        "          Open.insert(-1,it)\n",
        "  return []\n"
      ],
      "metadata": {
        "id": "W-UQUkTDsagU"
      },
      "execution_count": 24,
      "outputs": []
    },
    {
      "cell_type": "code",
      "source": [
        "def DFID(OpenNode , GoalNode):\n",
        "  depth = 0\n",
        "  while(True):\n",
        "    db_dfs(OpenNode,GoalNode,depth)\n",
        "    depth+=1"
      ],
      "metadata": {
        "id": "B1oRs3alr8fJ"
      },
      "execution_count": 25,
      "outputs": []
    },
    {
      "cell_type": "code",
      "source": [
        "def DFS(OpenNode , GoalNode):\n",
        "    Open = []\n",
        "    temp=[]\n",
        "    temp.append(OpenNode)\n",
        "    temp.append(OpenNode)\n",
        "    Open.append(temp)\n",
        "    Closed = []\n",
        "    Closed.append(temp)\n",
        "    t=1\n",
        "    while (len(Open) > 0) :\n",
        "      NodePair = Open[0][0]\n",
        "      NodeParent = Open[0][1]\n",
        "      Open.pop(0);\n",
        "      if(GoalNode == NodePair):\n",
        "        return ReconstructPath(NodeParent,Closed)\n",
        "      else:\n",
        "        i,j =func(NodePair)\n",
        "        children = MoveGen(NodePair,i,j)\n",
        "        NewNode = RemoveSeen(Closed,children)\n",
        "        NewPairs = Makepairs(NewNode,NodePair)\n",
        "        for it in NewPairs:\n",
        "          Closed.append(it)\n",
        "          Open.insert(0,it)\n",
        "    return []"
      ],
      "metadata": {
        "id": "5F2v5yRiT0bA"
      },
      "execution_count": 26,
      "outputs": []
    },
    {
      "cell_type": "code",
      "source": [
        "def BFS(OpenNode , GoalNode):\n",
        "    Open = []\n",
        "    temp=[]\n",
        "    temp.append(OpenNode)\n",
        "    temp.append(OpenNode)\n",
        "    Open.append(temp)\n",
        "    Closed = []\n",
        "    Closed.append(temp)\n",
        "    t=1\n",
        "    while (len(Open) > 0) :\n",
        "      NodePair = Open[0][0]\n",
        "      NodeParent = Open[0][1]\n",
        "      Open.pop(0);\n",
        "      if(GoalNode == NodePair):\n",
        "        return ReconstructPath(NodeParent,Closed)\n",
        "      else:\n",
        "        i,j =func(NodePair)\n",
        "        children = MoveGen(NodePair,i,j)\n",
        "        NewNode = RemoveSeen(Closed,children)\n",
        "        NewPairs = Makepairs(NewNode,NodePair)\n",
        "        for it in NewPairs:\n",
        "          Closed.append(it)\n",
        "          Open.append(it)\n",
        "    return []"
      ],
      "metadata": {
        "id": "pDEQLZ_NEJZO"
      },
      "execution_count": 27,
      "outputs": []
    },
    {
      "cell_type": "code",
      "source": [
        "OpenNode =  [  [2,8,3],\n",
        "               [1,4,5],\n",
        "               [7,9,6]]\n",
        "GoalNode = [[1,2,3],[4,5,6],[7,8,9]]\n",
        "temp = BFS(OpenNode,GoalNode)\n",
        "temp=Reverse(temp)\n",
        "temp.append(GoalNode)\n",
        "print(len(temp))\n"
      ],
      "metadata": {
        "id": "-KkNN05lpeTQ"
      },
      "execution_count": null,
      "outputs": []
    },
    {
      "cell_type": "code",
      "source": [
        "print(temp)"
      ],
      "metadata": {
        "id": "DWstkxx0qLfb"
      },
      "execution_count": null,
      "outputs": []
    },
    {
      "cell_type": "code",
      "source": [],
      "metadata": {
        "id": "UqW_kr-XrYvJ"
      },
      "execution_count": null,
      "outputs": []
    }
  ]
}